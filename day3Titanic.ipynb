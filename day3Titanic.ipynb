{
 "cells": [
  {
   "cell_type": "code",
   "execution_count": null,
   "metadata": {},
   "outputs": [],
   "source": [
    "import pandas as pd\n",
    "\n",
    "location='titanic3.xls'\n",
    "df = pd.read_excel(location)\n",
    "df.head()"
   ]
  },
  {
   "cell_type": "code",
   "execution_count": null,
   "metadata": {},
   "outputs": [],
   "source": [
    "df.describe()"
   ]
  },
  {
   "cell_type": "code",
   "execution_count": null,
   "metadata": {},
   "outputs": [],
   "source": [
    "df[df[\"sex\"] == \"female\"]"
   ]
  },
  {
   "cell_type": "code",
   "execution_count": null,
   "metadata": {},
   "outputs": [],
   "source": [
    "df[df['survived'] == 1]"
   ]
  },
  {
   "cell_type": "code",
   "execution_count": null,
   "metadata": {},
   "outputs": [],
   "source": [
    "df[df[\"sex\"]==\"female\"]\n"
   ]
  },
  {
   "cell_type": "code",
   "execution_count": null,
   "metadata": {},
   "outputs": [],
   "source": [
    "total_passengers = len(df)\n",
    "\n",
    "total_women = len(df[df['sex'] == 'female'])\n",
    "total_men = len(df[df['sex'] == 'male'])\n",
    "total_survived = len(df[df['survived'] == 1])\n",
    "total_over18 = len(df[df[\"age\"] > 18])\n",
    "total_firstclass = len(df[df[\"pclass\"] == 1])\n",
    "total_2ndclass = len(df[df[\"pclass\"] == 2])\n",
    "total_3rdclass = len(df[df[\"pclass\"] == 3])\n",
    "\n",
    "womensurvived = len(df[(df['sex'] == 'female') & (df['survived'] == 1)])\n",
    "mensurvived = len(df[(df['sex'] == 'male') & (df['survived'] == 1)])\n",
    "firstclasssurvived = len(df[(df['pclass'] == 1) & (df['survived'] == 1)])\n",
    "secondclasssurvived = len(df[(df['pclass'] == 2) & (df['survived'] == 1)])\n",
    "thirdclasssurvived = len(df[(df['pclass'] == 3) & (df['survived'] == 1)])\n",
    "adultsurvived = len(df[(df['age'] > 18) & (df['survived'] == 1)])\n",
    "childsurvived = len(df[(df['age'] <= 18) & (df['survived'] == 1)])"
   ]
  },
  {
   "cell_type": "code",
   "execution_count": null,
   "metadata": {},
   "outputs": [],
   "source": [
    "adultsurvived"
   ]
  },
  {
   "cell_type": "code",
   "execution_count": null,
   "metadata": {},
   "outputs": [],
   "source": [
    "locals()"
   ]
  },
  {
   "cell_type": "code",
   "execution_count": null,
   "metadata": {},
   "outputs": [],
   "source": [
    "len(df[df[\"pclass\"] == 3])"
   ]
  },
  {
   "cell_type": "code",
   "execution_count": null,
   "metadata": {},
   "outputs": [],
   "source": [
    "len(df[(df['sex'] == 'female') & (df['survived'] == 1)])"
   ]
  },
  {
   "cell_type": "code",
   "execution_count": null,
   "metadata": {},
   "outputs": [],
   "source": [
    "len(df[(df['age'] <= 18) & (df['survived'] == 1)])"
   ]
  },
  {
   "cell_type": "code",
   "execution_count": 58,
   "metadata": {},
   "outputs": [
    {
     "name": "stdout",
     "output_type": "stream",
     "text": [
      "0.06878411000763943\n"
     ]
    }
   ],
   "source": [
    "def findSurvivor(iswoman, isadult, isrich, isthing):\n",
    "    return iswoman*isadult*isrich*isthing\n",
    "\n",
    "p_woman_survived = womensurvived / total_survived\n",
    "p_adult_survived = adultsurvived / total_survived\n",
    "p_rich_survived = firstclasssurvived / total_survived\n",
    "p_survived = total_survived/total_passengers\n",
    "\n",
    "print(findSurvivor(p_woman_survived, p_adult_survived, p_rich_survived, p_survived))"
   ]
  },
  {
   "cell_type": "code",
   "execution_count": 59,
   "metadata": {},
   "outputs": [
    {
     "data": {
      "text/plain": [
       "0.3819709702062643"
      ]
     },
     "execution_count": 59,
     "metadata": {},
     "output_type": "execute_result"
    }
   ],
   "source": [
    "total_survived/total_passengers"
   ]
  },
  {
   "cell_type": "code",
   "execution_count": 61,
   "metadata": {},
   "outputs": [
    {
     "name": "stdout",
     "output_type": "stream",
     "text": [
      "0.678\n",
      "0.664\n",
      "0.4\n",
      "0.3819709702062643\n"
     ]
    },
    {
     "data": {
      "text/plain": [
       "0.06878411000763943"
      ]
     },
     "execution_count": 61,
     "metadata": {},
     "output_type": "execute_result"
    }
   ],
   "source": [
    "print (p_woman_survived)\n",
    "print(p_adult_survived)\n",
    "print(p_rich_survived)\n",
    "print(p_survived)\n",
    "p_woman_survived * p_adult_survived * p_rich_survived * p_survived\n"
   ]
  }
 ],
 "metadata": {
  "kernelspec": {
   "display_name": "Python 3.6",
   "language": "python",
   "name": "python36"
  },
  "language_info": {
   "codemirror_mode": {
    "name": "ipython",
    "version": 3
   },
   "file_extension": ".py",
   "mimetype": "text/x-python",
   "name": "python",
   "nbconvert_exporter": "python",
   "pygments_lexer": "ipython3",
   "version": "3.6.3"
  }
 },
 "nbformat": 4,
 "nbformat_minor": 2
}
